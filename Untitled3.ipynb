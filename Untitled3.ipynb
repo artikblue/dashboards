{
 "cells": [
  {
   "cell_type": "code",
   "execution_count": 1,
   "metadata": {},
   "outputs": [],
   "source": [
    "#######\n",
    "# TASK 1: Import pandas and numpy\n",
    "######\n",
    "\n",
    "import pandas as pd\n",
    "import numpy as np"
   ]
  },
  {
   "cell_type": "code",
   "execution_count": 4,
   "metadata": {},
   "outputs": [],
   "source": [
    "#######\n",
    "# TASK 2: Set Numpy's random number generator seed to 101\n",
    "######\n",
    "\n",
    "np.random.seed(101) "
   ]
  },
  {
   "cell_type": "code",
   "execution_count": 19,
   "metadata": {},
   "outputs": [
    {
     "name": "stdout",
     "output_type": "stream",
     "text": [
      "[[ 29  22  77  17  77]\n",
      " [ 87  56  21  45  31]\n",
      " [100  31 100  97  37]\n",
      " [ 18  73  29  76  90]\n",
      " [ 59  35  41  94  63]\n",
      " [ 30  12  38  99  65]\n",
      " [ 13  68  97  24  70]\n",
      " [ 18  41  83  46   5]\n",
      " [ 26  17  20  17  81]\n",
      " [ 35  94  87  44  32]\n",
      " [ 21  93  46  73  77]\n",
      " [ 21  17  51  55  78]\n",
      " [ 59  97  24  47  57]\n",
      " [ 78  54  28  51  57]\n",
      " [ 20  47  85  56  86]\n",
      " [ 33  25   2  36   6]\n",
      " [ 75  27  43  60  43]\n",
      " [ 13  21   8  94  93]\n",
      " [ 69  88  60  69  87]\n",
      " [ 17  76  78  66  88]\n",
      " [ 88  67  92  64  70]\n",
      " [ 88  90  56  87  58]\n",
      " [ 45  14  48  32  78]\n",
      " [ 59  90  38  23  23]\n",
      " [ 33  49  70  25  92]\n",
      " [  4  59  74  69  85]\n",
      " [ 49  95  74  76  48]\n",
      " [ 22  31   6  65  82]\n",
      " [ 96  90  71  29  70]\n",
      " [ 32  65  41  34  18]\n",
      " [ 80  56   5  78  52]\n",
      " [ 48  85  75  21  81]\n",
      " [ 44  97  23  42  54]\n",
      " [ 26  25  98  37  54]\n",
      " [ 19  25  56  71  83]\n",
      " [ 41  55  69  94  39]\n",
      " [ 34  69  35  30  52]\n",
      " [ 64  31  55  14  25]\n",
      " [ 15  18   8  14  25]\n",
      " [ 77 100  73   1  97]\n",
      " [ 68  68  32   7  35]\n",
      " [ 66  73  77  89  38]\n",
      " [ 99  58  70  52  60]\n",
      " [ 19  14  54  68  81]\n",
      " [ 68  24  56  87  39]\n",
      " [  9  32  47  81  43]\n",
      " [  3  88  70  52  92]\n",
      " [ 47  92  56  28  16]\n",
      " [  8  98   3  34  68]\n",
      " [ 52  48  50   4  71]\n",
      " [  5  67   6  77  52]\n",
      " [ 40  43   9   2  21]\n",
      " [ 51  18  42  15  23]\n",
      " [ 99   8  65   7  72]\n",
      " [ 77  29  67  79  62]\n",
      " [ 67  25  16  54  45]\n",
      " [ 50  92  25 100  29]\n",
      " [ 43  87  69  73  20]\n",
      " [  3  26  32  90  24]\n",
      " [ 23  23  53  81  63]\n",
      " [  8  58   8  41  83]\n",
      " [ 96  71  29  79   4]\n",
      " [ 69  98  79  94  82]\n",
      " [ 19  79  30  93  82]\n",
      " [ 21  91   5  46  77]\n",
      " [ 30  85  14  43  24]\n",
      " [ 39  77  17  32  92]\n",
      " [ 27  11  89  37  68]\n",
      " [ 31   7  57  21  93]\n",
      " [ 71   3  81  20  86]\n",
      " [ 69  64  54  78  44]\n",
      " [ 83  87  38  39  51]\n",
      " [ 92  77  17  18 100]\n",
      " [ 81  95  58   3  95]\n",
      " [ 22  92  99  12   3]\n",
      " [ 83   3  83  88  99]\n",
      " [ 58  52  78  26  38]\n",
      " [ 34  16  34   5  81]\n",
      " [ 74  40  55   7   2]\n",
      " [ 22  80  20  10  33]\n",
      " [ 93  90  16  83   5]\n",
      " [ 76  65   4  90  14]\n",
      " [ 41  10  18  28  60]\n",
      " [ 16  37  30  88  82]\n",
      " [ 42  88  95  97  12]\n",
      " [ 34  94  81  49   5]\n",
      " [ 49  50  46  44  84]\n",
      " [ 22  28  64  14  22]\n",
      " [ 41  55  32  82  44]\n",
      " [ 64  54  48  52  92]\n",
      " [ 60  14  61  47   4]\n",
      " [ 36  91  69  59  44]\n",
      " [ 20  18  28  78  35]\n",
      " [ 21  10  31  41  60]\n",
      " [ 89  93  91  27  73]\n",
      " [ 40  46  24  38  41]\n",
      " [ 11  12  85  24   7]\n",
      " [ 25  19  38  25  81]\n",
      " [ 25  26   6  68  99]\n",
      " [ 79  31  37  53  17]]\n"
     ]
    }
   ],
   "source": [
    "#######\n",
    "# TASK 3: Create a NumPy Matrix of 100 rows by 5 columns consisting of\n",
    "#         random integers from 1-100. (Keep in mind that the upper\n",
    "#         limit may be exclusive.)\n",
    "######\n",
    "\n",
    "mat = np.random.randint(1,101,500)\n",
    "mat=mat.reshape(100,5)\n",
    "print(mat)"
   ]
  },
  {
   "cell_type": "code",
   "execution_count": 20,
   "metadata": {},
   "outputs": [],
   "source": [
    "#######\n",
    "# TASK 4: Now use pd.DataFrame() to read in this numpy array as a dataframe.\n",
    "#         Simple pass in the numpy array into that function to get back a\n",
    "#         dataframe. Pandas will auto label the columns to 0-4\n",
    "######\n",
    "\n",
    "df = pd.DataFrame(mat)"
   ]
  },
  {
   "cell_type": "code",
   "execution_count": 22,
   "metadata": {},
   "outputs": [
    {
     "name": "stdout",
     "output_type": "stream",
     "text": [
      "     f1  f2   f3  f4  label\n",
      "0    29  22   77  17     77\n",
      "1    87  56   21  45     31\n",
      "2   100  31  100  97     37\n",
      "3    18  73   29  76     90\n",
      "4    59  35   41  94     63\n",
      "..  ...  ..  ...  ..    ...\n",
      "95   40  46   24  38     41\n",
      "96   11  12   85  24      7\n",
      "97   25  19   38  25     81\n",
      "98   25  26    6  68     99\n",
      "99   79  31   37  53     17\n",
      "\n",
      "[100 rows x 5 columns]\n"
     ]
    }
   ],
   "source": [
    "#######\n",
    "# TASK 5: Using your previously created DataFrame, use [df.columns = [...]]\n",
    "#         (https://stackoverflow.com/questions/11346283/renaming-columns-in-pandas)\n",
    "#         to rename the pandas columns to be ['f1','f2','f3','f4','label'].\n",
    "######\n",
    "df = pd.DataFrame(data=mat, columns=['f1','f2','f3','f4','label'])\n",
    "print(df)"
   ]
  },
  {
   "cell_type": "code",
   "execution_count": null,
   "metadata": {},
   "outputs": [],
   "source": [
    "#######\n",
    "# TASK 6: Alright, all the other tasks were hopefully straightforward.\n",
    "#         This final task will allow you to quickly check to see if you are at\n",
    "#         the right level with pandas! Do the following:\n",
    "#         Create a dataframe with the columns ['A','B','C','D'] with each column\n",
    "#         having 50 rows of random numbers for data. The random numbers should be\n",
    "#         between 0 and 100. (Hint: Use numpy to create the numbers, then pass\n",
    "#         it in to pd.DataFrame(), check out the data= and index= parameters\n",
    "#         for that call.)\n",
    "\n"
   ]
  }
 ],
 "metadata": {
  "kernelspec": {
   "display_name": "Python 3",
   "language": "python",
   "name": "python3"
  },
  "language_info": {
   "codemirror_mode": {
    "name": "ipython",
    "version": 3
   },
   "file_extension": ".py",
   "mimetype": "text/x-python",
   "name": "python",
   "nbconvert_exporter": "python",
   "pygments_lexer": "ipython3",
   "version": "3.6.9"
  }
 },
 "nbformat": 4,
 "nbformat_minor": 2
}
