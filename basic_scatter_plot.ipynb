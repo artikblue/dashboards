{
 "cells": [
  {
   "cell_type": "code",
   "execution_count": 1,
   "metadata": {},
   "outputs": [],
   "source": [
    "import numpy as np\n",
    "import plotly.offline as pyo\n",
    "import plotly.graph_objs as go\n",
    "\n",
    "\n",
    "np.random.seed(42)\n",
    "\n"
   ]
  },
  {
   "cell_type": "code",
   "execution_count": 2,
   "metadata": {},
   "outputs": [
    {
     "data": {
      "text/plain": [
       "'file:///home/lab/temp-plot.html'"
      ]
     },
     "execution_count": 2,
     "metadata": {},
     "output_type": "execute_result"
    }
   ],
   "source": [
    "random_x = np.random.randint(1,101, 100)\n",
    "random_y = np.random.randint(1,101, 100)\n",
    "\n",
    "data =  [go.Scatter(x=random_x, y=random_y, mode='markers')]\n",
    "\n",
    "pyo.plot(data)"
   ]
  },
  {
   "cell_type": "code",
   "execution_count": 4,
   "metadata": {},
   "outputs": [
    {
     "data": {
      "text/plain": [
       "'file:///home/lab/temp-plot.html'"
      ]
     },
     "execution_count": 4,
     "metadata": {},
     "output_type": "execute_result"
    }
   ],
   "source": [
    "random_x = np.random.randint(1,101, 100)\n",
    "random_y = np.random.randint(1,101, 100)\n",
    "\n",
    "data =  [go.Scatter(x=random_x, y=random_y, mode='markers')]\n",
    "layout = go.Layout(title=\"Random scatter plot\", \n",
    "                  xaxis= {'title':'random x'}, \n",
    "                  yaxis= dict(title='random y'),\n",
    "                  hovermode='closest')\n",
    "\n",
    "\n",
    "fig = go.Figure(data=data, layout=layout)\n",
    "pyo.plot(fig)\n",
    "#closest hovermode = coordinates show when hover the points"
   ]
  },
  {
   "cell_type": "code",
   "execution_count": 8,
   "metadata": {},
   "outputs": [
    {
     "data": {
      "text/plain": [
       "'file:///home/lab/temp-plot.html'"
      ]
     },
     "execution_count": 8,
     "metadata": {},
     "output_type": "execute_result"
    }
   ],
   "source": [
    "random_x = np.random.randint(1,101, 100)\n",
    "random_y = np.random.randint(1,101, 100)\n",
    "\n",
    "data =  [go.Scatter(x=random_x, \n",
    "                    y=random_y, \n",
    "                    mode='markers',\n",
    "                    marker=dict(\n",
    "                        size=12,\n",
    "                        color='rgb(51,204,153)',\n",
    "                        symbol='pentagon',\n",
    "                        line= {'width':2}\n",
    "                    ))]\n",
    "\n",
    "\n",
    "layout = go.Layout(title=\"Random scatter plot\", \n",
    "                  xaxis= {'title':'random x'}, \n",
    "                  yaxis= dict(title='random y'),\n",
    "                  hovermode='closest')\n",
    "\n",
    "\n",
    "fig = go.Figure(data=data, layout=layout)\n",
    "pyo.plot(fig)\n",
    "#closest hovermode = coordinates show when hover the points"
   ]
  },
  {
   "cell_type": "code",
   "execution_count": null,
   "metadata": {},
   "outputs": [],
   "source": []
  }
 ],
 "metadata": {
  "kernelspec": {
   "display_name": "Python 3",
   "language": "python",
   "name": "python3"
  },
  "language_info": {
   "codemirror_mode": {
    "name": "ipython",
    "version": 3
   },
   "file_extension": ".py",
   "mimetype": "text/x-python",
   "name": "python",
   "nbconvert_exporter": "python",
   "pygments_lexer": "ipython3",
   "version": "3.6.9"
  }
 },
 "nbformat": 4,
 "nbformat_minor": 2
}
