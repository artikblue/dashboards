{
 "cells": [
  {
   "cell_type": "code",
   "execution_count": 1,
   "metadata": {},
   "outputs": [],
   "source": [
    "import pandas as pd\n",
    "import plotly.offline as pyo\n",
    "import plotly.graph_objs as go"
   ]
  },
  {
   "cell_type": "code",
   "execution_count": 5,
   "metadata": {},
   "outputs": [
    {
     "name": "stdout",
     "output_type": "stream",
     "text": [
      "   SUMLEV REGION DIVISION  STATE              NAME  CENSUS2010POP  \\\n",
      "0    10.0      0        0    0.0     United States    308745538.0   \n",
      "1    20.0      1        0    0.0  Northeast Region     55317240.0   \n",
      "2    20.0      2        0    0.0    Midwest Region     66927001.0   \n",
      "3    20.0      3        0    0.0      South Region    114555744.0   \n",
      "4    20.0      4        0    0.0       West Region     71945553.0   \n",
      "\n",
      "   ESTIMATESBASE2010  POPESTIMATE2010  POPESTIMATE2011  POPESTIMATE2012  ...  \\\n",
      "0        308758105.0      309338421.0      311644280.0      313993272.0  ...   \n",
      "1         55318350.0       55388349.0       55642659.0       55860261.0  ...   \n",
      "2         66929794.0       66973360.0       67141501.0       67318295.0  ...   \n",
      "3        114563024.0      114869241.0      116060993.0      117291728.0  ...   \n",
      "4         71946937.0       72107471.0       72799127.0       73522988.0  ...   \n",
      "\n",
      "   RDOMESTICMIG2015  RDOMESTICMIG2016  RDOMESTICMIG2017  RNETMIG2011  \\\n",
      "0          0.000000          0.000000          0.000000     2.720900   \n",
      "1         -6.103092         -6.619089         -5.559570     1.467950   \n",
      "2         -3.458531         -3.307295         -2.304640    -1.187519   \n",
      "3          3.788037          3.592695          2.900528     5.544289   \n",
      "4          1.613450          2.099001          1.475519     2.798796   \n",
      "\n",
      "   RNETMIG2012  RNETMIG2013  RNETMIG2014  RNETMIG2015  RNETMIG2016  \\\n",
      "0     2.920371     2.883643     3.173228     3.516743     3.513394   \n",
      "1     0.779137     0.605873    -0.082832    -0.903931    -1.307503   \n",
      "2    -1.010696    -0.120354    -0.752477    -1.323952    -1.160735   \n",
      "3     5.831747     5.362083     6.317310     7.336162     7.113818   \n",
      "4     3.521423     3.396627     4.163576     5.067452     5.488965   \n",
      "\n",
      "   RNETMIG2017  \n",
      "0     3.423941  \n",
      "1    -0.288930  \n",
      "2    -0.191323  \n",
      "3     6.304010  \n",
      "4     4.737979  \n",
      "\n",
      "[5 rows x 121 columns]\n"
     ]
    }
   ],
   "source": [
    "df = pd.read_csv('./data/nst-est2017-alldata.csv')\n",
    "\n",
    "print(df.head())"
   ]
  },
  {
   "cell_type": "code",
   "execution_count": 7,
   "metadata": {},
   "outputs": [],
   "source": [
    "df2 = df[df['DIVISION']== '1'] \n",
    "# filter data getting rows division == 1\n",
    "\n",
    "df2.set_index('NAME', inplace=True)\n",
    "# 'NAME' col will be the index now, so we can refeer by name to the row"
   ]
  },
  {
   "cell_type": "code",
   "execution_count": 8,
   "metadata": {},
   "outputs": [
    {
     "name": "stdout",
     "output_type": "stream",
     "text": [
      "               POPESTIMATE2010  POPESTIMATE2011  POPESTIMATE2012  \\\n",
      "NAME                                                               \n",
      "Connecticut          3580171.0        3591927.0        3597705.0   \n",
      "Maine                1327568.0        1327968.0        1328101.0   \n",
      "Massachusetts        6564943.0        6612178.0        6659627.0   \n",
      "New Hampshire        1316700.0        1318345.0        1320923.0   \n",
      "Rhode Island         1053169.0        1052154.0        1052761.0   \n",
      "Vermont               625842.0         626210.0         625606.0   \n",
      "\n",
      "               POPESTIMATE2013  POPESTIMATE2014  POPESTIMATE2015  \\\n",
      "NAME                                                               \n",
      "Connecticut          3602470.0        3600188.0        3593862.0   \n",
      "Maine                1327975.0        1328903.0        1327787.0   \n",
      "Massachusetts        6711138.0        6757925.0        6794002.0   \n",
      "New Hampshire        1322622.0        1328684.0        1330134.0   \n",
      "Rhode Island         1052784.0        1054782.0        1055916.0   \n",
      "Vermont               626044.0         625665.0         624455.0   \n",
      "\n",
      "               POPESTIMATE2016  POPESTIMATE2017  \n",
      "NAME                                             \n",
      "Connecticut          3587685.0        3588184.0  \n",
      "Maine                1330232.0        1335907.0  \n",
      "Massachusetts        6823721.0        6859819.0  \n",
      "New Hampshire        1335015.0        1342795.0  \n",
      "Rhode Island         1057566.0        1059639.0  \n",
      "Vermont               623354.0         623657.0  \n"
     ]
    }
   ],
   "source": [
    "list_of_pop_col = [col for col in df2.columns if col.startswith('POP')]\n",
    "# only select the column if the column name starts with \"POP\"\n",
    "df2 = df2[list_of_pop_col]\n",
    "# we only have population related columns now\n",
    "\n",
    "\n",
    "print(df2)"
   ]
  },
  {
   "cell_type": "code",
   "execution_count": 9,
   "metadata": {},
   "outputs": [
    {
     "data": {
      "text/plain": [
       "'file:///home/lab/temp-plot.html'"
      ]
     },
     "execution_count": 9,
     "metadata": {},
     "output_type": "execute_result"
    }
   ],
   "source": [
    "data = [ go.Scatter(x=df2.columns\n",
    "                    , y=df2.loc[name], mode='lines', name=name) for name in df2.index]\n",
    "\n",
    "# data = [] so data is a LIST so the FOR will generate multiple \"Scatter\"\n",
    "# x = columns means it will go \"year\" by \"year\" as each column = name\n",
    "# y = we need to grab the right values (val asociated to city) for each row\n",
    "pyo.plot(data)"
   ]
  },
  {
   "cell_type": "code",
   "execution_count": null,
   "metadata": {},
   "outputs": [],
   "source": []
  }
 ],
 "metadata": {
  "kernelspec": {
   "display_name": "Python 3",
   "language": "python",
   "name": "python3"
  },
  "language_info": {
   "codemirror_mode": {
    "name": "ipython",
    "version": 3
   },
   "file_extension": ".py",
   "mimetype": "text/x-python",
   "name": "python",
   "nbconvert_exporter": "python",
   "pygments_lexer": "ipython3",
   "version": "3.6.9"
  }
 },
 "nbformat": 4,
 "nbformat_minor": 2
}
