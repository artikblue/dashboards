{
 "cells": [
  {
   "cell_type": "code",
   "execution_count": 1,
   "metadata": {},
   "outputs": [],
   "source": [
    "import pandas as pd\n",
    "import plotly.offline as pyo\n",
    "import plotly.graph_objs as go"
   ]
  },
  {
   "cell_type": "code",
   "execution_count": 2,
   "metadata": {},
   "outputs": [],
   "source": [
    "df = pd.read_csv('data/2018WinterOlympics.csv')"
   ]
  },
  {
   "cell_type": "code",
   "execution_count": 3,
   "metadata": {},
   "outputs": [
    {
     "name": "stdout",
     "output_type": "stream",
     "text": [
      "   Rank            NOC  Gold  Silver  Bronze  Total\n",
      "0     1         Norway    14      14      11     39\n",
      "1     2        Germany    14      10       7     31\n",
      "2     3         Canada    11       8      10     29\n",
      "3     4  United States     9       8       6     23\n",
      "4     5    Netherlands     8       6       6     20\n"
     ]
    }
   ],
   "source": [
    "print(df.head())"
   ]
  },
  {
   "cell_type": "code",
   "execution_count": 10,
   "metadata": {},
   "outputs": [
    {
     "data": {
      "text/plain": [
       "'file:///home/lab/temp-plot.html'"
      ]
     },
     "execution_count": 10,
     "metadata": {},
     "output_type": "execute_result"
    }
   ],
   "source": [
    "data = [go.Bar(x=df['NOC'], y=df['Total'])]\n",
    "\n",
    "layout = go.Layout(title='Medals')\n",
    "\n",
    "fig = go.Figure(data=data,layout=layout)\n",
    "\n",
    "pyo.plot(fig)"
   ]
  },
  {
   "cell_type": "code",
   "execution_count": 13,
   "metadata": {},
   "outputs": [
    {
     "data": {
      "text/plain": [
       "'file:///home/lab/temp-plot.html'"
      ]
     },
     "execution_count": 13,
     "metadata": {},
     "output_type": "execute_result"
    }
   ],
   "source": [
    "trace1 = go.Bar(x=df['NOC'], y=df['Gold'], name='Gold', marker={'color':'#FFD700'})\n",
    "trace2 = go.Bar(x=df['NOC'], y=df['Silver'], name='Silver', marker={'color':'#BDD900'})\n",
    "trace3 = go.Bar(x=df['NOC'], y=df['Bronze'], name='Bronze', marker={'color':'#ABD100'})\n",
    "# \"nested\" columns\n",
    "\n",
    "data = [trace1,trace2,trace3]\n",
    "\n",
    "layout = go.Layout(title='Medals')\n",
    "\n",
    "fig = go.Figure(data=data,layout=layout)\n",
    "\n",
    "pyo.plot(fig)"
   ]
  },
  {
   "cell_type": "code",
   "execution_count": 14,
   "metadata": {},
   "outputs": [
    {
     "data": {
      "text/plain": [
       "'file:///home/lab/temp-plot.html'"
      ]
     },
     "execution_count": 14,
     "metadata": {},
     "output_type": "execute_result"
    }
   ],
   "source": [
    "trace1 = go.Bar(x=df['NOC'], y=df['Gold'], name='Gold', marker={'color':'#FFD700'})\n",
    "trace2 = go.Bar(x=df['NOC'], y=df['Silver'], name='Silver', marker={'color':'#BDD900'})\n",
    "trace3 = go.Bar(x=df['NOC'], y=df['Bronze'], name='Bronze', marker={'color':'#ABD100'})\n",
    "\n",
    "\n",
    "data = [trace1,trace2,trace3]\n",
    "\n",
    "layout = go.Layout(title='Medals', barmode='stack')\n",
    "# STACKED layout\n",
    "\n",
    "fig = go.Figure(data=data,layout=layout)\n",
    "\n",
    "pyo.plot(fig)"
   ]
  },
  {
   "cell_type": "code",
   "execution_count": null,
   "metadata": {},
   "outputs": [],
   "source": []
  }
 ],
 "metadata": {
  "kernelspec": {
   "display_name": "Python 3",
   "language": "python",
   "name": "python3"
  },
  "language_info": {
   "codemirror_mode": {
    "name": "ipython",
    "version": 3
   },
   "file_extension": ".py",
   "mimetype": "text/x-python",
   "name": "python",
   "nbconvert_exporter": "python",
   "pygments_lexer": "ipython3",
   "version": "3.6.9"
  }
 },
 "nbformat": 4,
 "nbformat_minor": 2
}
